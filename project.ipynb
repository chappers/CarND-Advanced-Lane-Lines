{
 "cells": [
  {
   "cell_type": "markdown",
   "metadata": {},
   "source": [
    "## Advanced Lane Finding Project\n",
    "\n",
    "The goals / steps of this project are the following:\n",
    "\n",
    "* Compute the camera calibration matrix and distortion coefficients given a set of chessboard images.\n",
    "* Apply a distortion correction to raw images.\n",
    "* Use color transforms, gradients, etc., to create a thresholded binary image.\n",
    "* Apply a perspective transform to rectify binary image (\"birds-eye view\").\n",
    "* Detect lane pixels and fit to find the lane boundary.\n",
    "* Determine the curvature of the lane and vehicle position with respect to center.\n",
    "* Warp the detected lane boundaries back onto the original image.\n",
    "* Output visual display of the lane boundaries and numerical estimation of lane curvature and vehicle position.\n",
    "\n",
    "---\n",
    "## First, I'll compute the camera calibration using chessboard images"
   ]
  },
  {
   "cell_type": "code",
   "execution_count": 79,
   "metadata": {
    "collapsed": true
   },
   "outputs": [],
   "source": [
    "import numpy as np\n",
    "import cv2\n",
    "import glob\n",
    "import matplotlib.image as mpimg\n",
    "import matplotlib.pyplot as plt\n",
    "%matplotlib inline"
   ]
  },
  {
   "cell_type": "code",
   "execution_count": 584,
   "metadata": {
    "collapsed": true
   },
   "outputs": [],
   "source": [
    "from pylab import rcParams\n",
    "rcParams['figure.figsize'] = 10, 10"
   ]
  },
  {
   "cell_type": "markdown",
   "metadata": {},
   "source": [
    "Firstly, we shall use camera calibration doe as from sample repo: \n",
    "https://github.com/udacity/CarND-Camera-Calibration/blob/master/camera_calibration.ipynb"
   ]
  },
  {
   "cell_type": "code",
   "execution_count": 6,
   "metadata": {
    "collapsed": true
   },
   "outputs": [],
   "source": [
    "# do camera calibration as from sample repo\n",
    "# https://github.com/udacity/CarND-Camera-Calibration/blob/master/camera_calibration.ipynb\n",
    "# prepare object points, like (0,0,0), (1,0,0), (2,0,0) ....,(6,5,0)\n",
    "objp = np.zeros((6*9,3), np.float32)\n",
    "objp[:,:2] = np.mgrid[0:9,0:6].T.reshape(-1,2)\n",
    "\n",
    "# Arrays to store object points and image points from all the images.\n",
    "objpoints = [] # 3d points in real world space\n",
    "imgpoints = [] # 2d points in image plane.\n",
    "\n",
    "# Make a list of calibration images\n",
    "images = glob.glob('./camera_cal/calibration*.jpg')\n",
    "\n",
    "# Step through the list and search for chessboard corners\n",
    "for fname in images:\n",
    "    img = cv2.imread(fname)\n",
    "    gray = cv2.cvtColor(img,cv2.COLOR_BGR2GRAY)\n",
    "\n",
    "    # Find the chessboard corners\n",
    "    ret, corners = cv2.findChessboardCorners(gray, (9,6),None)\n",
    "\n",
    "    # If found, add object points, image points\n",
    "    if ret == True:\n",
    "        objpoints.append(objp)\n",
    "        imgpoints.append(corners)\n",
    "\n",
    "        #' Draw and display the corners\n",
    "        #img = cv2.drawChessboardCorners(img, (9,6), corners, ret)\n",
    "        #cv2.imshow('img',img)\n",
    "        #cv2.waitKey(500)\n",
    "\n",
    "#cv2.destroyAllWindows()"
   ]
  },
  {
   "cell_type": "code",
   "execution_count": 11,
   "metadata": {
    "collapsed": true
   },
   "outputs": [],
   "source": [
    "img = cv2.imread('camera_cal/calibration2.jpg')\n",
    "img_size = (img.shape[1], img.shape[0])\n",
    "\n",
    "# based on \"Correcting for Distortion\" Udacity vid\n",
    "ret, mtx, dist, rvecs, tvecs = cv2.calibrateCamera(objpoints, imgpoints, img_size, None, None)\n",
    "\n",
    "def undistort_image(image):    \n",
    "    return cv2.undistort(image, mtx, dist, None, mtx)\n",
    "\n",
    "dst = undistort_image(img)"
   ]
  },
  {
   "cell_type": "code",
   "execution_count": 10,
   "metadata": {},
   "outputs": [],
   "source": [
    "import pickle\n",
    "# pickle dump result\n",
    "dist_info = {}\n",
    "dist_info[\"mtx\"] = mtx\n",
    "dist_info[\"dist\"] = dist\n",
    "with open(\"camera_cal/dist_pickle.pkl\", \"wb\") as f:\n",
    "    pickle.dump(dist_info, f)"
   ]
  },
  {
   "cell_type": "markdown",
   "metadata": {},
   "source": [
    "## Colour Correction\n",
    "\n",
    "Removing all yellow lanes to white"
   ]
  },
  {
   "cell_type": "code",
   "execution_count": 230,
   "metadata": {
    "collapsed": true
   },
   "outputs": [],
   "source": [
    "def yellow_to_white(img1):\n",
    "    \"\"\"\n",
    "    transforms/masks yellow to white...\n",
    "    \"\"\"\n",
    "    img = img1.copy()\n",
    "    if len(img.shape) > 2:\n",
    "        channel_count = img.shape[2]  # i.e. 3 or 4 depending on your image\n",
    "        ignore_mask_color = (255,) * channel_count\n",
    "        keep_mask_color = (0,) * channel_count\n",
    "    else:\n",
    "        ignore_mask_color = 255\n",
    "        keep_mask_color = 0\n",
    "    \n",
    "    # yellow mask\n",
    "    y_lwr = np.array([190, 190, 0])\n",
    "    y_upr = np.array([255, 255, 160])\n",
    "    yellow_mask = cv2.inRange(img, y_lwr, y_upr)\n",
    "    \n",
    "    img[yellow_mask > 0] = ignore_mask_color\n",
    "    \n",
    "    # dark mask... mask\n",
    "    w_lwr = np.array([0, 0, 200])\n",
    "    w_upr = np.array([125, 125, 255])\n",
    "    white_mask = cv2.inRange(img, w_lwr, w_upr)    \n",
    "    \n",
    "    img[white_mask > 0] = keep_mask_color\n",
    "    \n",
    "    return img.copy()"
   ]
  },
  {
   "cell_type": "code",
   "execution_count": 152,
   "metadata": {
    "collapsed": true
   },
   "outputs": [],
   "source": [
    "def col_equalise(img):\n",
    "    # equalize histograms\n",
    "    lab= cv2.cvtColor(img, cv2.COLOR_BGR2LAB)\n",
    "    # split by channel\n",
    "    l, a, b = cv2.split(lab)\n",
    "    clahe = cv2.createCLAHE(clipLimit=2.0, tileGridSize=(8,8))\n",
    "    cl = clahe.apply(l)\n",
    "    limg = cv2.merge((cl,a,b))\n",
    "    final = cv2.cvtColor(limg, cv2.COLOR_LAB2BGR)\n",
    "    return final\n",
    "\n",
    "def hls_filter(img, thresh=(0, 255)):\n",
    "    \"\"\"\n",
    "    applies filter to S channel\n",
    "    output is binary mask.    \n",
    "    \"\"\"\n",
    "    hls = cv2.cvtColor(img, cv2.COLOR_RGB2HLS)\n",
    "    s_channel = hls[:,:,2]\n",
    "    binary_output = np.zeros_like(s_channel)\n",
    "    binary_output[(s_channel > thresh[0]) & (s_channel <= thresh[1])] = 1\n",
    "    return binary_output\n",
    "\n",
    "def color_correction(img1, median_blur=5):\n",
    "    img = img1.copy()\n",
    "    if median_blur:\n",
    "        img = cv2.medianBlur(img, median_blur)\n",
    "    img = col_equalise(img)\n",
    "    img = yellow_to_white(img)\n",
    "    ###img = red_to_black(img) # removed...\n",
    "    return img"
   ]
  },
  {
   "cell_type": "code",
   "execution_count": 217,
   "metadata": {
    "collapsed": true
   },
   "outputs": [],
   "source": [
    "def abs_sobel_thresh(img, orient='x', sobel_kernel=3, thresh=(0, 255)):\n",
    "    # Convert to grayscale\n",
    "    thresh_min, thresh_max = thresh\n",
    "    try:\n",
    "        gray = cv2.cvtColor(img, cv2.COLOR_RGB2GRAY)\n",
    "    except:\n",
    "        gray = img.copy()\n",
    "    # Apply x or y gradient with the OpenCV Sobel() function\n",
    "    # and take the absolute value\n",
    "    if orient == 'x':\n",
    "        abs_sobel = np.absolute(cv2.Sobel(gray, cv2.CV_64F, 1, 0, ksize=sobel_kernel))\n",
    "    if orient == 'y':\n",
    "        abs_sobel = np.absolute(cv2.Sobel(gray, cv2.CV_64F, 0, 1, ksize=sobel_kernel))\n",
    "    # Rescale back to 8 bit integer\n",
    "    scaled_sobel = np.uint8(255*abs_sobel/np.max(abs_sobel))\n",
    "    # Create a copy and apply the threshold\n",
    "    binary_output = np.zeros_like(scaled_sobel)\n",
    "    # Here I'm using inclusive (>=, <=) thresholds, but exclusive is ok too\n",
    "    binary_output[(scaled_sobel >= thresh_min) & (scaled_sobel <= thresh_max)] = 1\n",
    "\n",
    "    # Return the result\n",
    "    return binary_output\n",
    "\n",
    "# Define a function to return the magnitude of the gradient\n",
    "# for a given sobel kernel size and threshold values\n",
    "def mag_thresh(img, sobel_kernel=3, magnitude_thresh=(0, 255)):\n",
    "    # Convert to grayscale\n",
    "    thresh_min, thresh_max = magnitude_thresh\n",
    "    gray = cv2.cvtColor(img, cv2.COLOR_RGB2GRAY)\n",
    "    # Take both Sobel x and y gradients\n",
    "    sobelx = cv2.Sobel(gray, cv2.CV_64F, 1, 0, ksize=sobel_kernel)\n",
    "    sobely = cv2.Sobel(gray, cv2.CV_64F, 0, 1, ksize=sobel_kernel)\n",
    "    # Calculate the gradient magnitude\n",
    "    gradmag = np.sqrt(sobelx**2 + sobely**2)\n",
    "    # Rescale to 8 bit\n",
    "    scale_factor = np.max(gradmag)/255 \n",
    "    gradmag = (gradmag/scale_factor).astype(np.uint8) \n",
    "    # Create a binary image of ones where threshold is met, zeros otherwise\n",
    "    binary_output = np.zeros_like(gradmag)\n",
    "    binary_output[(gradmag >= thresh_min) & (gradmag <= thresh_max)] = 1\n",
    "\n",
    "    # Return the binary image\n",
    "    return binary_output\n",
    "\n",
    "# Define a function to threshold an image for a given range and Sobel kernel\n",
    "def dir_threshold(img, sobel_kernel=3, thresh=(0, np.pi/2)):\n",
    "    # Grayscale\n",
    "    gray = cv2.cvtColor(img, cv2.COLOR_RGB2GRAY)\n",
    "    # Calculate the x and y gradients\n",
    "    sobelx = cv2.Sobel(gray, cv2.CV_64F, 1, 0, ksize=sobel_kernel)\n",
    "    sobely = cv2.Sobel(gray, cv2.CV_64F, 0, 1, ksize=sobel_kernel)\n",
    "    # Take the absolute value of the gradient direction, \n",
    "    # apply a threshold, and create a binary image result\n",
    "    absgraddir = np.arctan2(np.absolute(sobely), np.absolute(sobelx))\n",
    "    binary_output =  np.zeros_like(absgraddir)\n",
    "    binary_output[(absgraddir >= thresh[0]) & (absgraddir <= thresh[1])] = 1\n",
    "\n",
    "    # Return the binary image\n",
    "    return binary_output\n"
   ]
  },
  {
   "cell_type": "code",
   "execution_count": 532,
   "metadata": {
    "collapsed": true
   },
   "outputs": [],
   "source": [
    "def abs_sobel_thresh_single(img, orient='x', sobel_kernel=3, thresh=(0, 255)):\n",
    "    # same as above for single channel case\n",
    "    thresh_min, thresh_max = thresh\n",
    "    # Apply x or y gradient with the OpenCV Sobel() function\n",
    "    # and take the absolute value\n",
    "    if orient == 'x':\n",
    "        abs_sobel = np.absolute(cv2.Sobel(img, cv2.CV_64F, 1, 0, ksize=sobel_kernel))\n",
    "    if orient == 'y':\n",
    "        abs_sobel = np.absolute(cv2.Sobel(img, cv2.CV_64F, 0, 1, ksize=sobel_kernel))\n",
    "    # Rescale back to 8 bit integer\n",
    "    scaled_sobel = np.uint8(255*abs_sobel/np.max(abs_sobel))\n",
    "    # Create a copy and apply the threshold\n",
    "    binary_output = np.zeros_like(scaled_sobel)\n",
    "    # Here I'm using inclusive (>=, <=) thresholds, but exclusive is ok too\n",
    "    #binary_output[(scaled_sobel >= thresh_min) & (scaled_sobel <= thresh_max)] = 1\n",
    "\n",
    "    # Return the result\n",
    "    return scaled_sobel"
   ]
  },
  {
   "cell_type": "code",
   "execution_count": 601,
   "metadata": {
    "collapsed": true
   },
   "outputs": [],
   "source": [
    "def threshold_pipeline(image, thresh=245):\n",
    "    \"\"\"\n",
    "    This pipeline is based on using only R and S channels\n",
    "    (see HLS and Color Thresholds)\n",
    "    \"\"\"\n",
    "    clahe = cv2.createCLAHE(clipLimit=2.0, tileGridSize=(8,8))\n",
    "    def equalise(img, mode='CLAHE'):\n",
    "        \"\"\"single channel image\"\"\"        \n",
    "        if mode == 'CLAHE':\n",
    "            img = clahe.apply(img)\n",
    "        else:\n",
    "            img = cv2.equalizeHist(img)\n",
    "        #img = cv2.medianBlur(img, 5)\n",
    "        return img\n",
    "        \n",
    "    hls = cv2.cvtColor(image, cv2.COLOR_RGB2HLS)\n",
    "    \n",
    "    R = image[:,:,0]\n",
    "    S = hls[:,:,2]\n",
    "    \n",
    "    # then equalise...\n",
    "    R_c = equalise(R, mode='CLAHE')\n",
    "    S_c = equalise(S, mode='CLAHE')\n",
    "    \n",
    "    R_hist = equalise(R, mode='hist')\n",
    "    S_hist = equalise(S, mode='hist')\n",
    "    \n",
    "    RS = np.median([R_c, S_c, R_hist, S_hist], axis=0)\n",
    "    RS[RS < thresh] = 0\n",
    "    RS[RS >= thresh] = 1\n",
    "    return RS\n",
    "\n",
    "    "
   ]
  },
  {
   "cell_type": "code",
   "execution_count": 602,
   "metadata": {
    "collapsed": true
   },
   "outputs": [],
   "source": [
    "def sobel_pipeline(image, sobel_kernel=3, \n",
    "                   gradx_thresh=(0, 255), \n",
    "                   grady_thresh=(0, 255), \n",
    "                   magnitude_thresh=(0, 255), \n",
    "                   dir_thresh=(0, np.pi/2)):\n",
    "    gray = cv2.cvtColor(image, cv2.COLOR_RGB2GRAY)\n",
    "    # Apply each of the thresholding functions\n",
    "    # initialize\n",
    "    gradx = np.ones_like(gray)\n",
    "    grady = np.ones_like(gray)\n",
    "    mag_binary = np.zeros_like(gray)\n",
    "    dir_binary = np.zeros_like(gray)\n",
    "    \n",
    "    if gradx_thresh:\n",
    "        gradx = abs_sobel_thresh(image, orient='x', sobel_kernel=sobel_kernel, thresh=gradx_thresh)\n",
    "        combined = np.zeros_like(gradx)\n",
    "       \n",
    "    if grady_thresh:\n",
    "        grady = abs_sobel_thresh(image, orient='y', sobel_kernel=sobel_kernel, thresh=grady_thresh)\n",
    "        combined = np.zeros_like(grady)\n",
    "        \n",
    "    if magnitude_thresh:\n",
    "        mag_binary = mag_thresh(image, sobel_kernel=sobel_kernel, magnitude_thresh=magnitude_thresh)\n",
    "        combined = np.zeros_like(mag_binary)\n",
    "        \n",
    "    if dir_thresh:\n",
    "        dir_binary = dir_threshold(image, sobel_kernel=sobel_kernel, thresh=dir_thresh)\n",
    "        combined = np.zeros_like(dir_binary)\n",
    "    \n",
    "    #combined[((gradx == 1) & (grady == 1)) | ((mag_binary == 1) & (dir_binary == 1))] = 1\n",
    "    combined[((gradx == 1) & (grady == 1)) | ((mag_binary == 1) & (dir_binary == 1))] = 1\n",
    "    return combined"
   ]
  },
  {
   "cell_type": "code",
   "execution_count": 615,
   "metadata": {
    "collapsed": true
   },
   "outputs": [],
   "source": [
    "def combined_pipeline(image, \n",
    "                      sobel_config={\"sobel_kernel\"     : 5, \n",
    "                        \"gradx_thresh\"     : (30, 255), \n",
    "                        \"grady_thresh\"     : (30, 255), \n",
    "                        \"magnitude_thresh\" : (40, 100), \n",
    "                        \"dir_thresh\"       : (0.7, 1.3)}, \n",
    "                      thres_config={'thresh': 200}):\n",
    "    #sobel_config['image'] = yellow_to_white(image)\n",
    "    #thres_config['image'] = image\n",
    "    sobel_img = sobel_pipeline(image=yellow_to_white(image), **sobel_config)\n",
    "    thres_img = threshold_pipeline(image=image, **thres_config)\n",
    "    \n",
    "    combined = np.zeros_like(sobel_img)\n",
    "    combined[(sobel_img==1) | (thres_img==1)] = 1\n",
    "    return combined"
   ]
  },
  {
   "cell_type": "code",
   "execution_count": 617,
   "metadata": {},
   "outputs": [
    {
     "data": {
      "text/plain": [
       "<matplotlib.image.AxesImage at 0x2d7e25bb4e0>"
      ]
     },
     "execution_count": 617,
     "metadata": {},
     "output_type": "execute_result"
    },
    {
     "data": {
      "image/png": "[encoded data removed]",
      "text/plain": [
       "<matplotlib.figure.Figure at 0x2d7e255fe10>"
      ]
     },
     "metadata": {},
     "output_type": "display_data"
    }
   ],
   "source": [
    "img = mpimg.imread('test_images/test5.jpg')\n",
    "R = combined_pipeline(img)\n",
    "plt.imshow(R, cmap='gray')"
   ]
  }
 ],
 "metadata": {
  "anaconda-cloud": {},
  "kernelspec": {
   "display_name": "Python [conda env:carnd-term1]",
   "language": "python",
   "name": "conda-env-carnd-term1-py"
  },
  "language_info": {
   "codemirror_mode": {
    "name": "ipython",
    "version": 3
   },
   "file_extension": ".py",
   "mimetype": "text/x-python",
   "name": "python",
   "nbconvert_exporter": "python",
   "pygments_lexer": "ipython3",
   "version": "3.5.2"
  }
 },
 "nbformat": 4,
 "nbformat_minor": 1
}
